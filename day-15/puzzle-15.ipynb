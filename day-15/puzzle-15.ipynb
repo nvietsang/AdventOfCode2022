{
 "cells": [
  {
   "cell_type": "code",
   "execution_count": null,
   "metadata": {},
   "outputs": [],
   "source": [
    "f = open(\"puzzle-14-input.txt\", \"r\")\n",
    "data = f.read()\n",
    "f.close()\n",
    "\n",
    "data = data.splitlines()\n",
    "data = [line.split(\" -> \") for line in data]\n",
    "data = [[(int(t.split(\",\")[0]), int(t.split(\",\")[1])) for t in line] for line in data]"
   ]
  }
 ],
 "metadata": {
  "kernelspec": {
   "display_name": "Python 3",
   "language": "python",
   "name": "python3"
  },
  "language_info": {
   "name": "python",
   "version": "3.10.2 (v3.10.2:a58ebcc701, Jan 13 2022, 14:50:16) [Clang 13.0.0 (clang-1300.0.29.30)]"
  },
  "orig_nbformat": 4,
  "vscode": {
   "interpreter": {
    "hash": "aee8b7b246df8f9039afb4144a1f6fd8d2ca17a180786b69acc140d282b71a49"
   }
  }
 },
 "nbformat": 4,
 "nbformat_minor": 2
}
