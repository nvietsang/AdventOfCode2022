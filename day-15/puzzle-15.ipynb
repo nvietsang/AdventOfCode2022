{
 "cells": [
  {
   "attachments": {},
   "cell_type": "markdown",
   "metadata": {},
   "source": [
    "## Below is wrong solution"
   ]
  },
  {
   "cell_type": "code",
   "execution_count": 33,
   "metadata": {},
   "outputs": [],
   "source": [
    "f = open(\"puzzle-15-input.txt\", \"r\")\n",
    "data = f.read()\n",
    "f.close()\n",
    "\n",
    "data = data.splitlines()\n",
    "data = [line.replace(\",\", \"\").replace(\":\", \"\") for line in data]\n",
    "data = [line.split(\" \") for line in data]\n",
    "S = []\n",
    "B = []\n",
    "D = []\n",
    "\n",
    "for line in data:\n",
    "    Sx = int(line[2].split(\"=\")[1])\n",
    "    Sy = int(line[3].split(\"=\")[1])\n",
    "    Bx = int(line[8].split(\"=\")[1])\n",
    "    By = int(line[9].split(\"=\")[1])\n",
    "    S.append((Sx, Sy))\n",
    "    B.append((Bx, By))\n",
    "    D.append(abs(Sx - Bx) + abs(Sy - By))\n",
    "\n",
    "n = len(S)\n",
    "assert n == len(B)"
   ]
  },
  {
   "cell_type": "code",
   "execution_count": 34,
   "metadata": {},
   "outputs": [],
   "source": [
    "xmin = min([x for (x, y) in S] + [x for (x, y) in B])\n",
    "xmax = max([x for (x, y) in S] + [x for (x, y) in B])\n",
    "ymin = min([y for (x, y) in S] + [y for (x, y) in B])\n",
    "ymax = max([y for (x, y) in S] + [y for (x, y) in B])"
   ]
  },
  {
   "cell_type": "code",
   "execution_count": 41,
   "metadata": {},
   "outputs": [
    {
     "data": {
      "text/plain": [
       "-1649857"
      ]
     },
     "execution_count": 41,
     "metadata": {},
     "output_type": "execute_result"
    }
   ],
   "source": [
    "ymin"
   ]
  },
  {
   "cell_type": "code",
   "execution_count": 35,
   "metadata": {},
   "outputs": [
    {
     "name": "stdout",
     "output_type": "stream",
     "text": [
      "3876819\n"
     ]
    }
   ],
   "source": [
    "yc = 2000000\n",
    "count_possible_beacons = 0\n",
    "\n",
    "for xc in range(xmin, xmax+1):\n",
    "    is_possible = True\n",
    "    for i in range(n):\n",
    "        (Sx, Sy) = S[i]\n",
    "        if abs(Sx - xc) + abs(Sy - yc) <= D[i]:\n",
    "            is_possible = False\n",
    "            break\n",
    "    \n",
    "    if is_possible:\n",
    "        # print(xc,yc)\n",
    "        count_possible_beacons += 1\n",
    "\n",
    "count_beacons = len(set([(Bx, By) for (Bx, By) in B if By == yc]))\n",
    "count_impossible = (xmax - xmin + 1) - count_possible_beacons - count_beacons\n",
    "# print(count_possible_beacons)\n",
    "print(count_impossible)\n"
   ]
  },
  {
   "attachments": {},
   "cell_type": "markdown",
   "metadata": {},
   "source": [
    "## Below is correct solution"
   ]
  },
  {
   "cell_type": "code",
   "execution_count": 49,
   "metadata": {},
   "outputs": [
    {
     "data": {
      "text/plain": [
       "6078701"
      ]
     },
     "execution_count": 49,
     "metadata": {},
     "output_type": "execute_result"
    }
   ],
   "source": [
    "f = open(\"puzzle-15-input.txt\", \"r\")\n",
    "data = f.read()\n",
    "f.close()\n",
    "\n",
    "data = data.splitlines()\n",
    "data = [line.replace(\",\", \"\").replace(\":\", \"\") for line in data]\n",
    "data = [line.split(\" \") for line in data]\n",
    "S = []\n",
    "B = []\n",
    "\n",
    "yc = 2000000\n",
    "range_no_beacons = set()\n",
    "beacons_on_line = set()\n",
    "\n",
    "for line in data:\n",
    "    Sx = int(line[2].split(\"=\")[1])\n",
    "    Sy = int(line[3].split(\"=\")[1])\n",
    "    Bx = int(line[8].split(\"=\")[1])\n",
    "    By = int(line[9].split(\"=\")[1])\n",
    "    S.append((Sx, Sy))\n",
    "    B.append((Bx, By))\n",
    "    d = abs(Sx - Bx) + abs(Sy - By)\n",
    "    \n",
    "    if By == yc:\n",
    "        beacons_on_line.add((Bx, By))\n",
    "\n",
    "    if Sy - d <= yc <= Sy + d:\n",
    "        delta_x = d - abs(yc - Sy)\n",
    "        range_no_beacons.update(range(Sx-delta_x, Sx+delta_x+1))\n",
    "\n",
    "\n",
    "len(range_no_beacons) - len(beacons_on_line)"
   ]
  }
 ],
 "metadata": {
  "kernelspec": {
   "display_name": "Python 3",
   "language": "python",
   "name": "python3"
  },
  "language_info": {
   "codemirror_mode": {
    "name": "ipython",
    "version": 3
   },
   "file_extension": ".py",
   "mimetype": "text/x-python",
   "name": "python",
   "nbconvert_exporter": "python",
   "pygments_lexer": "ipython3",
   "version": "3.10.2"
  },
  "orig_nbformat": 4,
  "vscode": {
   "interpreter": {
    "hash": "aee8b7b246df8f9039afb4144a1f6fd8d2ca17a180786b69acc140d282b71a49"
   }
  }
 },
 "nbformat": 4,
 "nbformat_minor": 2
}
